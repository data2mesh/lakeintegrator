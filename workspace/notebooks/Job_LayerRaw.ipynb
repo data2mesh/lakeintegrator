{
 "cells": [
  {
   "cell_type": "code",
   "execution_count": 1,
   "id": "9d378c7a-6dc8-468c-bce4-934c42e830ad",
   "metadata": {},
   "outputs": [
    {
     "name": "stdout",
     "output_type": "stream",
     "text": [
      "Starting Spark application\n"
     ]
    },
    {
     "data": {
      "text/html": [
       "<table>\n",
       "<tr><th>ID</th><th>YARN Application ID</th><th>Kind</th><th>State</th><th>Spark UI</th><th>Driver log</th><th>User</th><th>Current session?</th></tr><tr><td>0</td><td>None</td><td>pyspark</td><td>idle</td><td></td><td></td><td>None</td><td>✔</td></tr></table>"
      ],
      "text/plain": [
       "<IPython.core.display.HTML object>"
      ]
     },
     "metadata": {},
     "output_type": "display_data"
    },
    {
     "data": {
      "application/vnd.jupyter.widget-view+json": {
       "model_id": "",
       "version_major": 2,
       "version_minor": 0
      },
      "text/plain": [
       "FloatProgress(value=0.0, bar_style='info', description='Progress:', layout=Layout(height='25px', width='50%'),…"
      ]
     },
     "metadata": {},
     "output_type": "display_data"
    },
    {
     "name": "stdout",
     "output_type": "stream",
     "text": [
      "SparkSession available as 'spark'.\n"
     ]
    },
    {
     "data": {
      "application/vnd.jupyter.widget-view+json": {
       "model_id": "",
       "version_major": 2,
       "version_minor": 0
      },
      "text/plain": [
       "FloatProgress(value=0.0, bar_style='info', description='Progress:', layout=Layout(height='25px', width='50%'),…"
      ]
     },
     "metadata": {},
     "output_type": "display_data"
    }
   ],
   "source": [
    "import sys\n",
    "from awsglue.utils import getResolvedOptions\n",
    "from pyspark.context import SparkContext\n",
    "from awsglue.context import GlueContext\n",
    "from awsglue.dynamicframe import DynamicFrame\n",
    "from awsglue.job import Job\n",
    "# from pyspark.sql.types import StructType,StructField, StringType, IntegerType, DoubleType\n",
    "from awsglue.transforms import *\n",
    "from awsglue.gluetypes import *\n",
    "import boto3\n",
    "import json\n",
    "import botocore\n",
    "import os\n",
    "import datetime\n",
    "from typing import List, Dict\n",
    "\n",
    "glueContext = GlueContext(SparkContext.getOrCreate())"
   ]
  },
  {
   "cell_type": "markdown",
   "id": "0c86beec-db6d-4248-b743-7fd9ed87bbaa",
   "metadata": {},
   "source": [
    "## Setup Test Parameters"
   ]
  },
  {
   "cell_type": "code",
   "execution_count": 2,
   "id": "5c2ca5a1-fd90-4c18-914b-693e487afa78",
   "metadata": {},
   "outputs": [
    {
     "data": {
      "application/vnd.jupyter.widget-view+json": {
       "model_id": "",
       "version_major": 2,
       "version_minor": 0
      },
      "text/plain": [
       "FloatProgress(value=0.0, bar_style='info', description='Progress:', layout=Layout(height='25px', width='50%'),…"
      ]
     },
     "metadata": {},
     "output_type": "display_data"
    }
   ],
   "source": [
    "sys.argv+= [\"--data\",'{\"objectS3\": \"input/sap/test/FaltanteVirtual.txt\", \"source\": \"sap\", \"interface\": \"test\", \"file_name\": \"FaltanteVirtual.txt\", \"uuid_file\": \"7d0eb092e92c4cc19d3f6f9f01343110\", \"process_code\": \"20220709233628\", \"pt_year\": \"2022\", \"pt_month\": \"07\", \"pt_day\": \"09\", \"pt_hour\": \"23\", \"pt_minute\": \"36\", \"pt_second\": \"28\", \"pt_time\": \"233628\", \"bucket_raw\": \"auna-lake-raw-dev\", \"database_name_raw\": \"auna-lake-raw-dev\", \"bucket_artifacts\": \"auna-lake-artifacts\", \"key_artifacts\":\"schemas/sap/test/FaltanteVirtual.json\", \"bucket_landing\": \"auna-lake-landing\", \"key_landing_move\": \"move/sap/20220709233628/7d0eb092e92c4cc19d3f6f9f01343110/test_FaltanteVirtual.txt\"}']\n",
    "     "
   ]
  },
  {
   "cell_type": "markdown",
   "id": "1ad6abb2-7395-485e-bc5b-89e913e88e69",
   "metadata": {},
   "source": [
    "## Init Process"
   ]
  },
  {
   "cell_type": "code",
   "execution_count": 3,
   "id": "cccb359b-28a5-4f4a-ad22-89eeb73262be",
   "metadata": {},
   "outputs": [
    {
     "data": {
      "application/vnd.jupyter.widget-view+json": {
       "model_id": "",
       "version_major": 2,
       "version_minor": 0
      },
      "text/plain": [
       "FloatProgress(value=0.0, bar_style='info', description='Progress:', layout=Layout(height='25px', width='50%'),…"
      ]
     },
     "metadata": {},
     "output_type": "display_data"
    },
    {
     "name": "stdout",
     "output_type": "stream",
     "text": [
      "{'job_bookmark_option': 'job-bookmark-disable', 'job_bookmark_from': None, 'job_bookmark_to': None, 'JOB_ID': None, 'JOB_RUN_ID': None, 'SECURITY_CONFIGURATION': None, 'encryption_type': None, 'enable_data_lineage': None, 'RedshiftTempDir': None, 'TempDir': None, 'data': '{\"objectS3\": \"input/sap/test/FaltanteVirtual.txt\", \"source\": \"sap\", \"interface\": \"test\", \"file_name\": \"FaltanteVirtual.txt\", \"uuid_file\": \"7d0eb092e92c4cc19d3f6f9f01343110\", \"process_code\": \"20220709233628\", \"pt_year\": \"2022\", \"pt_month\": \"07\", \"pt_day\": \"09\", \"pt_hour\": \"23\", \"pt_minute\": \"36\", \"pt_second\": \"28\", \"pt_time\": \"233628\", \"bucket_raw\": \"auna-lake-raw-dev\", \"database_name_raw\": \"auna-lake-raw-dev\", \"bucket_artifacts\": \"auna-lake-artifacts\", \"key_artifacts\":\"schemas/sap/test/FaltanteVirtual.json\", \"bucket_landing\": \"auna-lake-landing\", \"key_landing_move\": \"move/sap/20220709233628/7d0eb092e92c4cc19d3f6f9f01343110/test_FaltanteVirtual.txt\"}'}"
     ]
    }
   ],
   "source": [
    "args = getResolvedOptions(sys.argv, [\"data\"])\n",
    "args"
   ]
  },
  {
   "cell_type": "code",
   "execution_count": 4,
   "id": "62b7bb93-b87f-4d86-b248-9f760038dbcf",
   "metadata": {},
   "outputs": [
    {
     "data": {
      "application/vnd.jupyter.widget-view+json": {
       "model_id": "",
       "version_major": 2,
       "version_minor": 0
      },
      "text/plain": [
       "FloatProgress(value=0.0, bar_style='info', description='Progress:', layout=Layout(height='25px', width='50%'),…"
      ]
     },
     "metadata": {},
     "output_type": "display_data"
    },
    {
     "name": "stdout",
     "output_type": "stream",
     "text": [
      "{'objectS3': 'input/sap/test/FaltanteVirtual.txt', 'source': 'sap', 'interface': 'test', 'file_name': 'FaltanteVirtual.txt', 'uuid_file': '7d0eb092e92c4cc19d3f6f9f01343110', 'process_code': '20220709233628', 'pt_year': '2022', 'pt_month': '07', 'pt_day': '09', 'pt_hour': '23', 'pt_minute': '36', 'pt_second': '28', 'pt_time': '233628', 'bucket_raw': 'auna-lake-raw-dev', 'database_name_raw': 'auna-lake-raw-dev', 'bucket_artifacts': 'auna-lake-artifacts', 'key_artifacts': 'schemas/sap/test/FaltanteVirtual.json', 'bucket_landing': 'auna-lake-landing', 'key_landing_move': 'move/sap/20220709233628/7d0eb092e92c4cc19d3f6f9f01343110/test_FaltanteVirtual.txt'}"
     ]
    }
   ],
   "source": [
    "data_interface = json.loads(args[\"data\"])\n",
    "data_interface"
   ]
  },
  {
   "cell_type": "code",
   "execution_count": 6,
   "id": "444562a7-7577-4e11-88cf-09bab95ef4a2",
   "metadata": {},
   "outputs": [
    {
     "data": {
      "application/vnd.jupyter.widget-view+json": {
       "model_id": "",
       "version_major": 2,
       "version_minor": 0
      },
      "text/plain": [
       "FloatProgress(value=0.0, bar_style='info', description='Progress:', layout=Layout(height='25px', width='50%'),…"
      ]
     },
     "metadata": {},
     "output_type": "display_data"
    }
   ],
   "source": [
    "bucket_raw = data_interface[\"bucket_raw\"]\n",
    "database_name_raw = data_interface[\"database_name_raw\"]"
   ]
  },
  {
   "cell_type": "code",
   "execution_count": 8,
   "id": "4a142507-54ad-44be-adc8-e24c1b445e64",
   "metadata": {},
   "outputs": [
    {
     "data": {
      "application/vnd.jupyter.widget-view+json": {
       "model_id": "",
       "version_major": 2,
       "version_minor": 0
      },
      "text/plain": [
       "FloatProgress(value=0.0, bar_style='info', description='Progress:', layout=Layout(height='25px', width='50%'),…"
      ]
     },
     "metadata": {},
     "output_type": "display_data"
    }
   ],
   "source": [
    "def s3_read_file(bucket, key):\n",
    "    s3 = boto3.client('s3')\n",
    "    file = s3.get_object(Bucket=bucket, Key=key)\n",
    "    file = file['Body'].read()\n",
    "    filebody = file.decode('utf-8', errors='replace')\n",
    "    return filebody    "
   ]
  },
  {
   "cell_type": "code",
   "execution_count": 9,
   "id": "08262de0-8132-4708-b6f6-d57f859c9546",
   "metadata": {},
   "outputs": [
    {
     "data": {
      "application/vnd.jupyter.widget-view+json": {
       "model_id": "",
       "version_major": 2,
       "version_minor": 0
      },
      "text/plain": [
       "FloatProgress(value=0.0, bar_style='info', description='Progress:', layout=Layout(height='25px', width='50%'),…"
      ]
     },
     "metadata": {},
     "output_type": "display_data"
    },
    {
     "name": "stdout",
     "output_type": "stream",
     "text": [
      "{'table_name': 'tbl_faltante_virtual', 'columns': [{'Name': 'centro', 'Type': 'string'}, {'Name': 'aniomes', 'Type': 'string'}, {'Name': 'fechaproceso', 'Type': 'string'}, {'Name': 'codcliente', 'Type': 'string'}, {'Name': 'codienda', 'Type': 'string'}, {'Name': 'cantidad', 'Type': 'string'}, {'Name': 'monto', 'Type': 'string'}, {'Name': 'deuda', 'Type': 'string'}, {'Name': 'tipo', 'Type': 'string'}], 'field.type': 'csv', 'field.delim': '\\t', 'partitions_key': [{'Name': 'pt_year', 'Type': 'string'}, {'Name': 'pt_month', 'Type': 'string'}, {'Name': 'pt_day', 'Type': 'string'}, {'Name': 'pt_time', 'Type': 'string'}], 'primary_key': ['centro', 'aniomes', 'fechaproceso', 'codcliente', 'codtienda'], 'quotes': False}"
     ]
    }
   ],
   "source": [
    "bucket_artifacts = data_interface[\"bucket_artifacts\"]\n",
    "key_artifacts = data_interface[\"key_artifacts\"]\n",
    "data_schema = s3_read_file(bucket_artifacts, key_artifacts)\n",
    "data_schema = json.loads(data_schema)\n",
    "data_schema"
   ]
  },
  {
   "cell_type": "code",
   "execution_count": 10,
   "id": "d20a0410-9dbe-47e7-8586-9d6545248639",
   "metadata": {},
   "outputs": [
    {
     "data": {
      "application/vnd.jupyter.widget-view+json": {
       "model_id": "",
       "version_major": 2,
       "version_minor": 0
      },
      "text/plain": [
       "FloatProgress(value=0.0, bar_style='info', description='Progress:', layout=Layout(height='25px', width='50%'),…"
      ]
     },
     "metadata": {},
     "output_type": "display_data"
    }
   ],
   "source": [
    "def format_schema_type(column_type):\n",
    "    if str.lower(column_type)== \"string\":\n",
    "            return StringType()\n",
    "    if str.lower(column_type)== \"integer\":\n",
    "            return IntegerType()\n",
    "    if str.lower(column_type)== \"double\":\n",
    "            return DoubleType()\n",
    "    return StringType()"
   ]
  },
  {
   "cell_type": "code",
   "execution_count": 11,
   "id": "a6b2e806-9294-478b-b5ed-ef8a2fea7024",
   "metadata": {},
   "outputs": [
    {
     "data": {
      "application/vnd.jupyter.widget-view+json": {
       "model_id": "",
       "version_major": 2,
       "version_minor": 0
      },
      "text/plain": [
       "FloatProgress(value=0.0, bar_style='info', description='Progress:', layout=Layout(height='25px', width='50%'),…"
      ]
     },
     "metadata": {},
     "output_type": "display_data"
    }
   ],
   "source": [
    "def glue_spark_schema(data_schema):\n",
    "    data_columns = data_schema[\"columns\"]\n",
    "    struct_type_lst = []\n",
    "    \n",
    "    for columns in data_columns:\n",
    "        row_type = Field(columns[\"Name\"],format_schema_type(columns[\"Type\"]))\n",
    "        struct_type_lst.append(row_type)\n",
    "    return StructType(struct_type_lst)"
   ]
  },
  {
   "cell_type": "code",
   "execution_count": 12,
   "id": "68705c44-52f9-4f83-be5c-ecd02c5d9b7f",
   "metadata": {},
   "outputs": [
    {
     "data": {
      "application/vnd.jupyter.widget-view+json": {
       "model_id": "",
       "version_major": 2,
       "version_minor": 0
      },
      "text/plain": [
       "FloatProgress(value=0.0, bar_style='info', description='Progress:', layout=Layout(height='25px', width='50%'),…"
      ]
     },
     "metadata": {},
     "output_type": "display_data"
    },
    {
     "name": "stdout",
     "output_type": "stream",
     "text": [
      "StructType([Field(centro, StringType({}), {}),Field(aniomes, StringType({}), {}),Field(fechaproceso, StringType({}), {}),Field(codcliente, StringType({}), {}),Field(codienda, StringType({}), {}),Field(cantidad, StringType({}), {}),Field(monto, StringType({}), {}),Field(deuda, StringType({}), {}),Field(tipo, StringType({}), {})], {})"
     ]
    }
   ],
   "source": [
    "glue_schema = glue_spark_schema(data_schema)\n",
    "glue_schema"
   ]
  },
  {
   "cell_type": "code",
   "execution_count": 13,
   "id": "0fa08d70-3853-45eb-9b67-2458d4e67665",
   "metadata": {},
   "outputs": [
    {
     "data": {
      "application/vnd.jupyter.widget-view+json": {
       "model_id": "",
       "version_major": 2,
       "version_minor": 0
      },
      "text/plain": [
       "FloatProgress(value=0.0, bar_style='info', description='Progress:', layout=Layout(height='25px', width='50%'),…"
      ]
     },
     "metadata": {},
     "output_type": "display_data"
    },
    {
     "name": "stdout",
     "output_type": "stream",
     "text": [
      "root\n",
      "|-- centro: string\n",
      "|-- aniomes: string\n",
      "|-- fechaproceso: string\n",
      "|-- codcliente: string\n",
      "|-- codienda: string\n",
      "|-- cantidad: string\n",
      "|-- monto: string\n",
      "|-- deuda: string\n",
      "|-- tipo: string"
     ]
    }
   ],
   "source": [
    "bucket_landing = data_interface[\"bucket_landing\"]\n",
    "key_landing_move = data_interface[\"key_landing_move\"]\n",
    "\n",
    "connection_type = \"s3\"\n",
    "connection_options = {\"paths\": [ f\"s3://{bucket_landing}/{key_landing_move}\"]}\n",
    "format_options = {\"withSchema\": json.dumps(glue_schema.jsonValue()), \"separator\": data_schema[\"field.delim\"]\n",
    "        }\n",
    "\n",
    "glue_raw = glueContext.create_dynamic_frame.from_options(\n",
    "                connection_type = connection_type, \n",
    "                connection_options = connection_options, \n",
    "                format=\"csv\", \n",
    "                format_options = format_options, \n",
    "                transformation_ctx=\"\")\n",
    "\n",
    "glue_raw.printSchema()"
   ]
  },
  {
   "cell_type": "code",
   "execution_count": 14,
   "id": "10972a71-4de9-4af2-a5fe-aa268fbb1970",
   "metadata": {},
   "outputs": [
    {
     "data": {
      "application/vnd.jupyter.widget-view+json": {
       "model_id": "",
       "version_major": 2,
       "version_minor": 0
      },
      "text/plain": [
       "FloatProgress(value=0.0, bar_style='info', description='Progress:', layout=Layout(height='25px', width='50%'),…"
      ]
     },
     "metadata": {},
     "output_type": "display_data"
    }
   ],
   "source": [
    "def append_partitions(glue_raw):\n",
    "    \n",
    "    def AddDateCol_year(r):  \n",
    "        r[\"pt_year\"] = data_interface[\"pt_year\"]\n",
    "        return r \n",
    "\n",
    "    def AddDateCol_month(r):  \n",
    "        r[\"pt_month\"] = data_interface[\"pt_month\"]\n",
    "        return r \n",
    "\n",
    "    def AddDateCol_day(r):  \n",
    "        r[\"pt_day\"] = data_interface[\"pt_day\"]\n",
    "        return r \n",
    "\n",
    "    def AddDateCol_time(r):  \n",
    "        r[\"pt_time\"] = data_interface[\"pt_time\"]\n",
    "        return r \n",
    "    \n",
    "    partitions_key = [ partition[\"Name\"] for partition in data_schema[\"partitions_key\"]]\n",
    "    \n",
    "    if \"pt_year\" in partitions_key:\n",
    "        glue_raw = Map.apply(frame = glue_raw, f = AddDateCol_year)\n",
    "    if \"pt_month\" in partitions_key:\n",
    "        glue_raw = Map.apply(frame = glue_raw, f = AddDateCol_month)\n",
    "    if \"pt_day\" in partitions_key:\n",
    "        glue_raw = Map.apply(frame = glue_raw, f = AddDateCol_day)\n",
    "    if \"pt_time\" in partitions_key:\n",
    "        glue_raw = Map.apply(frame = glue_raw, f = AddDateCol_time)\n",
    "    \n",
    "    return glue_raw"
   ]
  },
  {
   "cell_type": "code",
   "execution_count": 15,
   "id": "135d60af-f222-4a7e-9bf6-c7f0c21ff10c",
   "metadata": {},
   "outputs": [
    {
     "data": {
      "application/vnd.jupyter.widget-view+json": {
       "model_id": "",
       "version_major": 2,
       "version_minor": 0
      },
      "text/plain": [
       "FloatProgress(value=0.0, bar_style='info', description='Progress:', layout=Layout(height='25px', width='50%'),…"
      ]
     },
     "metadata": {},
     "output_type": "display_data"
    }
   ],
   "source": [
    "def append_audit(glue_raw):\n",
    "    \n",
    "    def AddDateCol_process_code(r):  \n",
    "        r[\"process_code\"] = data_interface[\"uuid_file\"]\n",
    "        return r \n",
    "\n",
    "    def AddDateCol_uuid(r):  \n",
    "        r[\"uuid_file\"] = data_interface[\"process_code\"]\n",
    "        return r\n",
    "    \n",
    "    audit_key = [{\"Name\":\"process_code\", \"Type\":\"string\"},\n",
    "            {\"Name\":\"uuid_file\", \"Type\":\"string\"}]\n",
    "    data_schema[\"columns\"] = data_schema[\"columns\"]+audit_key\n",
    "\n",
    "\n",
    "    glue_raw = Map.apply(frame = glue_raw, f = AddDateCol_process_code)\n",
    "    glue_raw = Map.apply(frame = glue_raw, f = AddDateCol_uuid)\n",
    "    \n",
    "    return glue_raw"
   ]
  },
  {
   "cell_type": "code",
   "execution_count": 16,
   "id": "d76f402b-e7be-46bf-a764-c417ba595d18",
   "metadata": {},
   "outputs": [
    {
     "data": {
      "application/vnd.jupyter.widget-view+json": {
       "model_id": "",
       "version_major": 2,
       "version_minor": 0
      },
      "text/plain": [
       "FloatProgress(value=0.0, bar_style='info', description='Progress:', layout=Layout(height='25px', width='50%'),…"
      ]
     },
     "metadata": {},
     "output_type": "display_data"
    }
   ],
   "source": [
    "def data_sort_columns(glue_raw):\n",
    "    column_total = [col[\"Name\"] for col in data_schema[\"columns\"]]\n",
    "    partitions_key = [col[\"Name\"] for col in data_schema[\"partitions_key\"]] \n",
    "    column_total+= partitions_key\n",
    "    return glue_raw.select_fields(column_total)"
   ]
  },
  {
   "cell_type": "code",
   "execution_count": 23,
   "id": "a412858a-e5bc-4151-8126-08c8cdb90e99",
   "metadata": {},
   "outputs": [
    {
     "data": {
      "application/vnd.jupyter.widget-view+json": {
       "model_id": "",
       "version_major": 2,
       "version_minor": 0
      },
      "text/plain": [
       "FloatProgress(value=0.0, bar_style='info', description='Progress:', layout=Layout(height='25px', width='50%'),…"
      ]
     },
     "metadata": {},
     "output_type": "display_data"
    },
    {
     "name": "stdout",
     "output_type": "stream",
     "text": [
      "+------+-------+------------+----------+--------+--------+--------+-----+----+--------------------+--------------+-------+--------+------+-------+\n",
      "|centro|aniomes|fechaproceso|codcliente|codienda|cantidad|   monto|deuda|tipo|        process_code|     uuid_file|pt_year|pt_month|pt_day|pt_time|\n",
      "+------+-------+------------+----------+--------+--------+--------+-----+----+--------------------+--------------+-------+--------+------+-------+\n",
      "|  CR03| 202210|  2022-06-27| 200036215|     300|   27.00|47601.00|    0|   P|7d0eb092e92c4cc19...|20220709233628|   2022|      07|    09| 233628|\n",
      "|  CR03| 202210|  2022-06-27| 200073557|     422|    2.00| 8053.11|    0|   P|7d0eb092e92c4cc19...|20220709233628|   2022|      07|    09| 233628|\n",
      "+------+-------+------------+----------+--------+--------+--------+-----+----+--------------------+--------------+-------+--------+------+-------+\n",
      "only showing top 2 rows"
     ]
    }
   ],
   "source": [
    "glue_raw.toDF().show(2)"
   ]
  },
  {
   "cell_type": "code",
   "execution_count": 19,
   "id": "a96223ba-059f-4e2d-a6fc-c30acee52f36",
   "metadata": {},
   "outputs": [
    {
     "data": {
      "application/vnd.jupyter.widget-view+json": {
       "model_id": "",
       "version_major": 2,
       "version_minor": 0
      },
      "text/plain": [
       "FloatProgress(value=0.0, bar_style='info', description='Progress:', layout=Layout(height='25px', width='50%'),…"
      ]
     },
     "metadata": {},
     "output_type": "display_data"
    }
   ],
   "source": [
    "glue_raw = append_audit(glue_raw)"
   ]
  },
  {
   "cell_type": "code",
   "execution_count": 21,
   "id": "0f3d07b5-0417-412e-90d7-85f1646a1b6e",
   "metadata": {},
   "outputs": [
    {
     "data": {
      "application/vnd.jupyter.widget-view+json": {
       "model_id": "",
       "version_major": 2,
       "version_minor": 0
      },
      "text/plain": [
       "FloatProgress(value=0.0, bar_style='info', description='Progress:', layout=Layout(height='25px', width='50%'),…"
      ]
     },
     "metadata": {},
     "output_type": "display_data"
    }
   ],
   "source": [
    "glue_raw = append_partitions(glue_raw)"
   ]
  },
  {
   "cell_type": "code",
   "execution_count": 22,
   "id": "a2e6b7bf-eb7c-4de8-93bd-7cfedcd18537",
   "metadata": {},
   "outputs": [
    {
     "data": {
      "application/vnd.jupyter.widget-view+json": {
       "model_id": "",
       "version_major": 2,
       "version_minor": 0
      },
      "text/plain": [
       "FloatProgress(value=0.0, bar_style='info', description='Progress:', layout=Layout(height='25px', width='50%'),…"
      ]
     },
     "metadata": {},
     "output_type": "display_data"
    }
   ],
   "source": [
    "glue_raw = data_sort_columns(glue_raw)"
   ]
  },
  {
   "cell_type": "markdown",
   "id": "1c491274-9585-42ee-a65d-75e2a10f319c",
   "metadata": {},
   "source": [
    "glue_raw = Map.apply(frame = glue_raw, f = AddDateCol_year)\n",
    "glue_raw = Map.apply(frame = glue_raw, f = AddDateCol_month)\n",
    "glue_raw = Map.apply(frame = glue_raw, f = AddDateCol_day)\n",
    "glue_raw = Map.apply(frame = glue_raw, f = AddDateCol_time)"
   ]
  },
  {
   "cell_type": "code",
   "execution_count": 24,
   "id": "89b11421-ffdb-47f2-b125-f2a4da8b20bd",
   "metadata": {},
   "outputs": [
    {
     "data": {
      "application/vnd.jupyter.widget-view+json": {
       "model_id": "",
       "version_major": 2,
       "version_minor": 0
      },
      "text/plain": [
       "FloatProgress(value=0.0, bar_style='info', description='Progress:', layout=Layout(height='25px', width='50%'),…"
      ]
     },
     "metadata": {},
     "output_type": "display_data"
    },
    {
     "name": "stdout",
     "output_type": "stream",
     "text": [
      "root\n",
      "|-- centro: string\n",
      "|-- aniomes: string\n",
      "|-- fechaproceso: string\n",
      "|-- codcliente: string\n",
      "|-- codienda: string\n",
      "|-- cantidad: string\n",
      "|-- monto: string\n",
      "|-- deuda: string\n",
      "|-- tipo: string\n",
      "|-- process_code: string\n",
      "|-- uuid_file: string\n",
      "|-- pt_year: string\n",
      "|-- pt_month: string\n",
      "|-- pt_day: string\n",
      "|-- pt_time: string"
     ]
    }
   ],
   "source": [
    "glue_raw.printSchema()"
   ]
  },
  {
   "cell_type": "code",
   "execution_count": 25,
   "id": "01b20fa0-023f-4de9-8db8-3b82da052a0a",
   "metadata": {},
   "outputs": [
    {
     "data": {
      "application/vnd.jupyter.widget-view+json": {
       "model_id": "",
       "version_major": 2,
       "version_minor": 0
      },
      "text/plain": [
       "FloatProgress(value=0.0, bar_style='info', description='Progress:', layout=Layout(height='25px', width='50%'),…"
      ]
     },
     "metadata": {},
     "output_type": "display_data"
    },
    {
     "name": "stdout",
     "output_type": "stream",
     "text": [
      "33686"
     ]
    }
   ],
   "source": [
    "glue_raw.count()"
   ]
  },
  {
   "cell_type": "markdown",
   "id": "c3012789-81d9-4327-8c8e-2d942fe914b8",
   "metadata": {},
   "source": [
    "glue_raw.toDF().show(5)"
   ]
  },
  {
   "cell_type": "markdown",
   "id": "e3f8db7d-ed94-4293-8833-c90bee4c71cd",
   "metadata": {},
   "source": [
    "glue_raw = glue_raw.select_fields(column_total)"
   ]
  },
  {
   "cell_type": "markdown",
   "id": "aaaac969-df75-4e1b-8c27-970dc14a85d6",
   "metadata": {},
   "source": [
    "glue_raw.toDF().show()"
   ]
  },
  {
   "cell_type": "code",
   "execution_count": 26,
   "id": "6e414f44-4f5c-4783-8dc4-207bff2cf7b6",
   "metadata": {},
   "outputs": [
    {
     "data": {
      "application/vnd.jupyter.widget-view+json": {
       "model_id": "",
       "version_major": 2,
       "version_minor": 0
      },
      "text/plain": [
       "FloatProgress(value=0.0, bar_style='info', description='Progress:', layout=Layout(height='25px', width='50%'),…"
      ]
     },
     "metadata": {},
     "output_type": "display_data"
    }
   ],
   "source": [
    "class Glueutils:\n",
    "    \n",
    "    def __init__(self, data_schema, data_interface, bucket_raw):\n",
    "        self.glue = boto3.client('glue')\n",
    "        self.data_schema = data_schema\n",
    "        self.data_interface = data_interface\n",
    "        self.database_key = \"database\"\n",
    "        self.bucket_raw = bucket_raw\n",
    "        \n",
    "        self.GLUE_TABLE_FORMATS = {\n",
    "            'csv': {\n",
    "                'Input': 'org.apache.hadoop.mapred.TextInputFormat',\n",
    "                'Output': 'org.apache.hadoop.hive.ql.io.HiveIgnoreKeyTextOutputFormat',\n",
    "                'Serde': {\n",
    "                    'Lib': 'org.apache.hadoop.hive.serde2.OpenCSVSerde',\n",
    "                    'Params': {\n",
    "                        'separatorChar': ','\n",
    "                    }\n",
    "                },\n",
    "                'Prefix': '',\n",
    "                'Key': lambda prefix, table: f\"{self.database_key}/{prefix}/{table}\",\n",
    "                'Bucket': self.bucket_raw\n",
    "            },\n",
    "            'tsv': {\n",
    "                'Input': 'org.apache.hadoop.mapred.TextInputFormat',\n",
    "                'Output': 'org.apache.hadoop.hive.ql.io.HiveIgnoreKeyTextOutputFormat',\n",
    "                'Serde': {\n",
    "                    'Lib': 'org.apache.hadoop.hive.serde2.lazy.LazySimpleSerDe',\n",
    "                    'Params': {\n",
    "                        'field.delim': '\\t'\n",
    "                    }\n",
    "                },\n",
    "                'Prefix': '',\n",
    "                'Key': lambda prefix, table: f\"{self.database_key}/{prefix}/{table}\",\n",
    "                'Bucket': self.bucket_raw\n",
    "            }\n",
    "        }\n",
    "\n",
    "        self.DEFAULT_PARTITION_KEYS = self.data_schema[\"partitions_key\"]\n",
    "\n",
    "\n",
    "    def table_spec(self, table_name: str, file_type: str, s3_path: str, columns: List[str], delimiter: Dict[str, dict]):\n",
    "        \"\"\"\n",
    "        Returns a valid table spec for use with Glue CreateTable API\n",
    "        \"\"\"\n",
    "\n",
    "        formats = self.GLUE_TABLE_FORMATS[file_type]\n",
    "\n",
    "        return {\n",
    "            'Name': table_name,\n",
    "            'StorageDescriptor': {\n",
    "                'Columns': columns,\n",
    "                'Compressed': True,\n",
    "                'Location': s3_path,\n",
    "                'InputFormat': formats['Input'],\n",
    "                'OutputFormat': formats['Output'],\n",
    "                'SerdeInfo': {\n",
    "                    'SerializationLibrary': formats['Serde']['Lib'],\n",
    "                    'Parameters': formats['Serde']['Params']\n",
    "                }\n",
    "            },\n",
    "            'PartitionKeys': self.DEFAULT_PARTITION_KEYS,\n",
    "            'TableType': 'EXTERNAL_TABLE',\n",
    "            'Parameters': {\n",
    "                'EXTERNAL': 'TRUE',\n",
    "                'classification': file_type,\n",
    "                'creationDate': datetime.datetime.utcnow().isoformat()\n",
    "            }\n",
    "        }\n",
    "\n",
    "    def table_spec_parquet(self, table_name: str, s3_path: str, columns: List[str]):\n",
    "        \"\"\"\n",
    "        Returns a valid table spec for use with Glue CreateTable API\n",
    "        \"\"\"\n",
    "        return {\n",
    "            'Name': table_name,\n",
    "            'StorageDescriptor': {\n",
    "                'Columns': columns,\n",
    "                'Compressed': True,\n",
    "                'Location': s3_path,\n",
    "                'InputFormat': 'org.apache.hadoop.hive.ql.io.parquet.MapredParquetInputFormat',\n",
    "                'OutputFormat': 'org.apache.hadoop.hive.ql.io.parquet.MapredParquetOutputFormat',\n",
    "                'SerdeInfo': {\n",
    "                    'SerializationLibrary': 'org.apache.hadoop.hive.ql.io.parquet.serde.ParquetHiveSerDe',\n",
    "                    'Parameters':{\n",
    "                        'serialization.format': '1'\n",
    "                    }\n",
    "                },\n",
    "            'Parameters': {\n",
    "                'classification': 'parquet',\n",
    "                'compressionType': 'none'\n",
    "                }\n",
    "            },\n",
    "            'PartitionKeys': self.DEFAULT_PARTITION_KEYS,\n",
    "            'TableType': 'EXTERNAL_TABLE',\n",
    "            'Parameters': {\n",
    "                'EXTERNAL': 'TRUE',\n",
    "                'classification': 'parquet',\n",
    "                'creationDate': datetime.datetime.utcnow().isoformat()\n",
    "            }\n",
    "        }\n",
    "    \n",
    "    def table_exists(self, database: str, name: str) -> bool:\n",
    "        \"\"\"\n",
    "        Check if given table exists in the Glue catalog\n",
    "        \"\"\"\n",
    "        resp = self.glue.get_tables(DatabaseName=database, Expression=f\".*{name}.*\")\n",
    "        return len(resp['TableList']) > 0\n",
    "\n",
    "\n",
    "    def create_table(self, system: str, interface: str, file_type: str, database_name: str):\n",
    "        \"\"\"\n",
    "        Create table for given system and interface, if it exists\n",
    "        Return name and warehouse path info for the table\n",
    "        \"\"\"\n",
    "        source = self.data_interface[\"source\"]\n",
    "        interface = self.data_interface[\"interface\"]\n",
    "        table_name = self.data_schema[\"table_name\"]\n",
    "        table_name = f\"{interface}_{table_name}\"\n",
    "        \n",
    "        formats = self.GLUE_TABLE_FORMATS[file_type]\n",
    "        # table_name = f\"{formats['Prefix']}{system}_{interface}\"\n",
    "        bucket = formats['Bucket']\n",
    "        key = f\"{self.database_key}/{source}/{interface}/{table_name}\"\n",
    "        s3_path = f\"s3://{bucket}/{key}\"\n",
    "\n",
    "        if self.table_exists(database_name, table_name):\n",
    "            print('tabla ya existe')\n",
    "            return table_name, bucket, key\n",
    "\n",
    "        # prefix_schema = 'work/schemas'\n",
    "        bucket_schema = bucket\n",
    "        interface_schema = interface\n",
    "\n",
    "\n",
    "        columns = self.data_schema[\"columns\"]\n",
    "        delimiter = self.data_schema[\"field.delim\"]\n",
    "        # revisar table_spec, para que se envie el formato correcto de parquet\n",
    "\n",
    "        table = self.table_spec_parquet(table_name, s3_path, columns)\n",
    "\n",
    "        try:\n",
    "            self.glue.create_table(DatabaseName=database_name, TableInput=table)\n",
    "        except self.glue.exceptions.AlreadyExistsException:\n",
    "            print(f\"{table_name} ya existe\")\n",
    "\n",
    "        return table_name, bucket, key\n",
    "\n",
    "\n",
    "    def get_glue_table(self, database_name: str, table_name: str):\n",
    "        try:\n",
    "            response = self.glue.get_table(DatabaseName=database_name, Name=table_name)\n",
    "\n",
    "            print(response)\n",
    "            return response['Table']\n",
    "        except glue.exceptions.EntityNotFoundException:\n",
    "            raise ValueError(f'Error:   {database_name}.{table_name} no existe')\n",
    "            return None\n",
    "\n",
    "\n",
    "    def create_partition(self, database_name, table_name, new_partition):\n",
    "        try:\n",
    "            print('lm: agregar nueva particion: ', end='')\n",
    "            response = self.glue.create_partition(DatabaseName=database_name,\n",
    "                                             TableName=table_name,\n",
    "                                             PartitionInput=new_partition)\n",
    "            print('Okey particion agregada:')\n",
    "        except glue.exceptions.AlreadyExistsException as e:\n",
    "            print('lm:excepcion Particion ya existente', e)\n"
   ]
  },
  {
   "cell_type": "code",
   "execution_count": 27,
   "id": "3e676751-8e37-49fc-bf6e-e6c10154cc64",
   "metadata": {},
   "outputs": [
    {
     "data": {
      "application/vnd.jupyter.widget-view+json": {
       "model_id": "",
       "version_major": 2,
       "version_minor": 0
      },
      "text/plain": [
       "FloatProgress(value=0.0, bar_style='info', description='Progress:', layout=Layout(height='25px', width='50%'),…"
      ]
     },
     "metadata": {},
     "output_type": "display_data"
    },
    {
     "name": "stdout",
     "output_type": "stream",
     "text": [
      "'auna-lake-raw-dev'"
     ]
    }
   ],
   "source": [
    "database_name_raw"
   ]
  },
  {
   "cell_type": "code",
   "execution_count": 29,
   "id": "2bd0bd4e-628d-4773-9655-bc4723a061ed",
   "metadata": {},
   "outputs": [
    {
     "data": {
      "application/vnd.jupyter.widget-view+json": {
       "model_id": "",
       "version_major": 2,
       "version_minor": 0
      },
      "text/plain": [
       "FloatProgress(value=0.0, bar_style='info', description='Progress:', layout=Layout(height='25px', width='50%'),…"
      ]
     },
     "metadata": {},
     "output_type": "display_data"
    },
    {
     "name": "stdout",
     "output_type": "stream",
     "text": [
      "lm: creando tabla en Glue: test_tbl_faltante_virtual ya existe"
     ]
    }
   ],
   "source": [
    "print('lm: creando tabla en Glue: ', end=\"\")\n",
    "\n",
    "GlueObj = Glueutils(data_schema, data_interface, bucket_raw)\n",
    "table_name, table_bucket, table_key = GlueObj.create_table(system=data_interface[\"source\"],\n",
    "                                interface= data_interface[\"interface\"],\n",
    "                                file_type= data_schema[\"field.type\"],\n",
    "                                database_name= database_name_raw)"
   ]
  },
  {
   "cell_type": "code",
   "execution_count": 30,
   "id": "4db09d11-c0b3-4914-8334-cdbd619d933e",
   "metadata": {},
   "outputs": [
    {
     "data": {
      "application/vnd.jupyter.widget-view+json": {
       "model_id": "",
       "version_major": 2,
       "version_minor": 0
      },
      "text/plain": [
       "FloatProgress(value=0.0, bar_style='info', description='Progress:', layout=Layout(height='25px', width='50%'),…"
      ]
     },
     "metadata": {},
     "output_type": "display_data"
    },
    {
     "name": "stdout",
     "output_type": "stream",
     "text": [
      "'database/sap/test/test_tbl_faltante_virtual'"
     ]
    }
   ],
   "source": [
    "table_key"
   ]
  },
  {
   "cell_type": "code",
   "execution_count": 31,
   "id": "68e4f7c7-c44a-422a-b6e4-73a8ee78623d",
   "metadata": {},
   "outputs": [
    {
     "data": {
      "application/vnd.jupyter.widget-view+json": {
       "model_id": "",
       "version_major": 2,
       "version_minor": 0
      },
      "text/plain": [
       "FloatProgress(value=0.0, bar_style='info', description='Progress:', layout=Layout(height='25px', width='50%'),…"
      ]
     },
     "metadata": {},
     "output_type": "display_data"
    },
    {
     "name": "stdout",
     "output_type": "stream",
     "text": [
      "'s3://auna-lake-raw-dev/database/sap/test/test_tbl_faltante_virtual'"
     ]
    }
   ],
   "source": [
    "raw_path_file = f\"s3://{table_bucket}/{table_key}\"\n",
    "raw_path_file"
   ]
  },
  {
   "cell_type": "code",
   "execution_count": 32,
   "id": "2f4fe227-5eb9-4295-809f-afa7f4c2d67e",
   "metadata": {},
   "outputs": [
    {
     "data": {
      "application/vnd.jupyter.widget-view+json": {
       "model_id": "",
       "version_major": 2,
       "version_minor": 0
      },
      "text/plain": [
       "FloatProgress(value=0.0, bar_style='info', description='Progress:', layout=Layout(height='25px', width='50%'),…"
      ]
     },
     "metadata": {},
     "output_type": "display_data"
    },
    {
     "name": "stdout",
     "output_type": "stream",
     "text": [
      "['pt_year', 'pt_month', 'pt_day', 'pt_time']"
     ]
    }
   ],
   "source": [
    "partitions_key = [col[\"Name\"] for col in data_schema[\"partitions_key\"]]\n",
    "partitions_key"
   ]
  },
  {
   "cell_type": "code",
   "execution_count": 33,
   "id": "24f368b6-038e-4686-8d78-7b848c85b53c",
   "metadata": {},
   "outputs": [
    {
     "data": {
      "application/vnd.jupyter.widget-view+json": {
       "model_id": "",
       "version_major": 2,
       "version_minor": 0
      },
      "text/plain": [
       "FloatProgress(value=0.0, bar_style='info', description='Progress:', layout=Layout(height='25px', width='50%'),…"
      ]
     },
     "metadata": {},
     "output_type": "display_data"
    },
    {
     "name": "stdout",
     "output_type": "stream",
     "text": [
      "'s3://auna-lake-raw-dev/database/sap/test/test_tbl_faltante_virtual/pt_year=2022/pt_month=07/pt_day=09/pt_time=233628'"
     ]
    }
   ],
   "source": [
    "pt_year = data_interface['pt_year']\n",
    "pt_month =data_interface['pt_month']\n",
    "pt_day =data_interface['pt_day']\n",
    "pt_time =data_interface['pt_time']\n",
    "\n",
    "partition = f\"pt_year={pt_year}/pt_month={pt_month}/pt_day={pt_day}/pt_time={pt_time}\"\n",
    "\n",
    "f\"{raw_path_file}/{partition}\""
   ]
  },
  {
   "cell_type": "code",
   "execution_count": 34,
   "id": "1fc6544f-117b-4962-87fe-1e341d5def93",
   "metadata": {},
   "outputs": [
    {
     "data": {
      "application/vnd.jupyter.widget-view+json": {
       "model_id": "",
       "version_major": 2,
       "version_minor": 0
      },
      "text/plain": [
       "FloatProgress(value=0.0, bar_style='info', description='Progress:', layout=Layout(height='25px', width='50%'),…"
      ]
     },
     "metadata": {},
     "output_type": "display_data"
    }
   ],
   "source": [
    "\n",
    "glueContext.purge_s3_path(f\"{raw_path_file}/{partition}\", options={\"retentionPeriod\":0})\n"
   ]
  },
  {
   "cell_type": "code",
   "execution_count": 35,
   "id": "3a5841a7-2be3-4f1b-b3b4-8370c63a54bc",
   "metadata": {},
   "outputs": [
    {
     "data": {
      "application/vnd.jupyter.widget-view+json": {
       "model_id": "",
       "version_major": 2,
       "version_minor": 0
      },
      "text/plain": [
       "FloatProgress(value=0.0, bar_style='info', description='Progress:', layout=Layout(height='25px', width='50%'),…"
      ]
     },
     "metadata": {},
     "output_type": "display_data"
    },
    {
     "name": "stdout",
     "output_type": "stream",
     "text": [
      "<awsglue.dynamicframe.DynamicFrame object at 0x7f0f88a22a90>"
     ]
    }
   ],
   "source": [
    "glueContext.write_dynamic_frame.from_catalog(\n",
    "        frame=glue_raw,\n",
    "        database = database_name_raw, \n",
    "        table_name = table_name, \n",
    "        transformation_ctx = database_name_raw, \n",
    "        additional_options={\"partitionKeys\": partitions_key})"
   ]
  },
  {
   "cell_type": "markdown",
   "id": "8e8781e6-1a38-48b9-897d-30badb3bbb22",
   "metadata": {},
   "source": [
    "result =  glueContext.write_dynamic_frame \\\n",
    "    .from_options(\n",
    "        frame = glue_raw, \n",
    "        connection_type = \"s3\", \n",
    "        connection_options =  {\"path\": raw_path_file, \n",
    "                               \"partitionKeys\": partitions_key},\n",
    "        format = \"parquet\")"
   ]
  },
  {
   "cell_type": "code",
   "execution_count": 36,
   "id": "cc04f5ab-a488-4d97-ac15-e131fc133aab",
   "metadata": {},
   "outputs": [
    {
     "data": {
      "application/vnd.jupyter.widget-view+json": {
       "model_id": "",
       "version_major": 2,
       "version_minor": 0
      },
      "text/plain": [
       "FloatProgress(value=0.0, bar_style='info', description='Progress:', layout=Layout(height='25px', width='50%'),…"
      ]
     },
     "metadata": {},
     "output_type": "display_data"
    },
    {
     "name": "stdout",
     "output_type": "stream",
     "text": [
      "{'Table': {'Name': 'test_tbl_faltante_virtual', 'DatabaseName': 'auna-lake-raw-dev', 'CreateTime': datetime.datetime(2022, 7, 12, 2, 51, 6, tzinfo=tzlocal()), 'UpdateTime': datetime.datetime(2022, 7, 12, 2, 51, 6, tzinfo=tzlocal()), 'Retention': 0, 'StorageDescriptor': {'Columns': [{'Name': 'centro', 'Type': 'string'}, {'Name': 'aniomes', 'Type': 'string'}, {'Name': 'fechaproceso', 'Type': 'string'}, {'Name': 'codcliente', 'Type': 'string'}, {'Name': 'codienda', 'Type': 'string'}, {'Name': 'cantidad', 'Type': 'string'}, {'Name': 'monto', 'Type': 'string'}, {'Name': 'deuda', 'Type': 'string'}, {'Name': 'tipo', 'Type': 'string'}, {'Name': 'process_code', 'Type': 'string'}, {'Name': 'uuid_file', 'Type': 'string'}], 'Location': 's3://auna-lake-raw-dev/database/sap/test/test_tbl_faltante_virtual', 'InputFormat': 'org.apache.hadoop.hive.ql.io.parquet.MapredParquetInputFormat', 'OutputFormat': 'org.apache.hadoop.hive.ql.io.parquet.MapredParquetOutputFormat', 'Compressed': True, 'NumberOfBuckets': 0, 'SerdeInfo': {'SerializationLibrary': 'org.apache.hadoop.hive.ql.io.parquet.serde.ParquetHiveSerDe', 'Parameters': {'serialization.format': '1'}}, 'SortColumns': [], 'Parameters': {'classification': 'parquet', 'compressionType': 'none'}, 'StoredAsSubDirectories': False}, 'PartitionKeys': [{'Name': 'pt_year', 'Type': 'string'}, {'Name': 'pt_month', 'Type': 'string'}, {'Name': 'pt_day', 'Type': 'string'}, {'Name': 'pt_time', 'Type': 'string'}], 'TableType': 'EXTERNAL_TABLE', 'Parameters': {'EXTERNAL': 'TRUE', 'classification': 'parquet', 'creationDate': '2022-07-12T02:51:06.006537'}, 'CreatedBy': 'arn:aws:iam::279224823134:user/usr_auna', 'IsRegisteredWithLakeFormation': False}, 'ResponseMetadata': {'RequestId': 'd0e5ae58-d2ef-47bb-a1bf-f8e4f66c7a30', 'HTTPStatusCode': 200, 'HTTPHeaders': {'date': 'Tue, 12 Jul 2022 02:53:53 GMT', 'content-type': 'application/x-amz-json-1.1', 'content-length': '1613', 'connection': 'keep-alive', 'x-amzn-requestid': 'd0e5ae58-d2ef-47bb-a1bf-f8e4f66c7a30'}, 'RetryAttempts': 0}}\n",
      "lm: configurar nueva particion"
     ]
    }
   ],
   "source": [
    "table = GlueObj.get_glue_table(database_name_raw, table_name)\n",
    "\n",
    "\n",
    "print('lm: configurar nueva particion')\n",
    "new_partition = {\n",
    "    'Values': [pt_year, pt_month, pt_day, pt_time],\n",
    "    'StorageDescriptor': {\n",
    "        'InputFormat': 'org.apache.hadoop.hive.ql.io.parquet.MapredParquetInputFormat',\n",
    "        'OutputFormat': 'org.apache.hadoop.hive.ql.io.parquet.MapredParquetOutputFormat',\n",
    "        'SerdeInfo': {\n",
    "            'SerializationLibrary': 'org.apache.hadoop.hive.ql.io.parquet.serde.ParquetHiveSerDe',\n",
    "            'Parameters':{\n",
    "                'serialization.format': '1'\n",
    "            }\n",
    "        },\n",
    "        'Columns': data_schema[\"columns\"],\n",
    "        'Location': f\"{raw_path_file}/{partition}\"\n",
    "    }\n",
    "}"
   ]
  },
  {
   "cell_type": "code",
   "execution_count": 37,
   "id": "f6b6a7cb-beab-4af8-8344-fc32e3f7891c",
   "metadata": {},
   "outputs": [
    {
     "data": {
      "application/vnd.jupyter.widget-view+json": {
       "model_id": "",
       "version_major": 2,
       "version_minor": 0
      },
      "text/plain": [
       "FloatProgress(value=0.0, bar_style='info', description='Progress:', layout=Layout(height='25px', width='50%'),…"
      ]
     },
     "metadata": {},
     "output_type": "display_data"
    },
    {
     "name": "stdout",
     "output_type": "stream",
     "text": [
      "lm: agregar nueva particion: lm: agregar nueva particion: Okey particion agregada:"
     ]
    }
   ],
   "source": [
    "print('lm: agregar nueva particion: ', end='')\n",
    "response = GlueObj.create_partition(database_name =database_name_raw,\n",
    "                                      table_name= table_name,\n",
    "                                      new_partition=new_partition)"
   ]
  },
  {
   "cell_type": "code",
   "execution_count": null,
   "id": "984204fc-88c1-4b2b-a22b-5a5688cb7905",
   "metadata": {},
   "outputs": [],
   "source": []
  }
 ],
 "metadata": {
  "kernelspec": {
   "display_name": "Glue Spark - Local (PySpark)",
   "language": "python",
   "name": "pysparkkernel"
  },
  "language_info": {
   "codemirror_mode": {
    "name": "python",
    "version": 3
   },
   "file_extension": ".py",
   "mimetype": "text/x-python",
   "name": "pyspark",
   "pygments_lexer": "python3"
  }
 },
 "nbformat": 4,
 "nbformat_minor": 5
}
